{
 "cells": [
  {
   "cell_type": "code",
   "execution_count": 12,
   "id": "fa1da773",
   "metadata": {},
   "outputs": [
    {
     "data": {
      "text/plain": [
       "True"
      ]
     },
     "execution_count": 12,
     "metadata": {},
     "output_type": "execute_result"
    }
   ],
   "source": [
    "import os\n",
    "from dotenv import load_dotenv\n",
    "from dataclasses import dataclass\n",
    "from pathlib import Path\n",
    "from src.project.constants import *\n",
    "from src.project.utils.common import read_yaml, create_directories, save_json\n",
    "from src.project import logger\n",
    "import mlflow\n",
    "import joblib\n",
    "import mlflow.sklearn\n",
    "from urllib.parse import urlparse\n",
    "from sklearn.metrics import mean_absolute_error, r2_score, mean_squared_error\n",
    "import pandas as pd\n",
    "load_dotenv()"
   ]
  },
  {
   "cell_type": "code",
   "execution_count": 3,
   "id": "0a3e75f6",
   "metadata": {},
   "outputs": [
    {
     "data": {
      "text/plain": [
       "'c:\\\\Users\\\\Ansh Lulla\\\\VS-Code\\\\MLOps\\\\13-End-to-end-DS-Project'"
      ]
     },
     "execution_count": 3,
     "metadata": {},
     "output_type": "execute_result"
    }
   ],
   "source": [
    "os.chdir(\"../\")\n",
    "%pwd"
   ]
  },
  {
   "cell_type": "code",
   "execution_count": 7,
   "id": "8fe8e6ee",
   "metadata": {},
   "outputs": [],
   "source": [
    "@dataclass\n",
    "class ModelEvaluationConfig:\n",
    "    root_dir: Path\n",
    "    test_data_path: Path\n",
    "    model_path: Path\n",
    "    metrics_file_name: str\n",
    "    params: dict\n",
    "    target_column: str\n",
    "    mlflow_uri: str"
   ]
  },
  {
   "cell_type": "code",
   "execution_count": 15,
   "id": "95aab4c5",
   "metadata": {},
   "outputs": [],
   "source": [
    "class ConfigurationManager:\n",
    "    def __init__(self, config_file_path=CONFIG_FILE_PATH,\n",
    "                 schema_file_path=SCHEMA_FILE_PATH,\n",
    "                 params_file_path=PARAMS_FILE_PATH):\n",
    "        self.config = read_yaml(config_file_path)\n",
    "        self.params = read_yaml(params_file_path)\n",
    "        self.schema = read_yaml(schema_file_path)\n",
    "\n",
    "        create_directories([self.config.artifacts_root])\n",
    "    \n",
    "    def get_model_evaluation_config(self) -> ModelEvaluationConfig:\n",
    "        config = self.config.model_evaluation\n",
    "        schema = self.schema.TARGET_COLUMN\n",
    "        params = self.params.ElasticNet\n",
    "\n",
    "        create_directories([config.root_dir])\n",
    "\n",
    "        model_evaluation_config = ModelEvaluationConfig(\n",
    "            root_dir=config.root_dir,\n",
    "            test_data_path=config.test_data_path,\n",
    "            model_path=config.model_path,\n",
    "            metrics_file_name=config.metrics_file_name,\n",
    "            params=params,\n",
    "            target_column=schema.name,\n",
    "            mlflow_uri=os.getenv(\"MLFLOW_TRACKING_URI\")\n",
    "        )\n",
    "\n",
    "        return model_evaluation_config"
   ]
  },
  {
   "cell_type": "code",
   "execution_count": 18,
   "id": "b286c664",
   "metadata": {},
   "outputs": [],
   "source": [
    "class ModelEvaluation:\n",
    "    def __init__(self, config: ModelEvaluationConfig):\n",
    "        self.config = config\n",
    "    \n",
    "    def eval_metrics(self, y_test, y_pred):\n",
    "        mse = mean_squared_error(y_test, y_pred)\n",
    "        mae = mean_absolute_error(y_test, y_pred)\n",
    "        r2 = r2_score(y_test, y_pred)\n",
    "        return mse, mae, r2\n",
    "    \n",
    "    def log_into_mlflow(self):\n",
    "        test_data = pd.read_csv(self.config.test_data_path)\n",
    "        model = joblib.load(self.config.model_path)\n",
    "\n",
    "        X_test = test_data.drop([self.config.target_column], axis=1)\n",
    "        y_test = test_data[[self.config.target_column]]\n",
    "\n",
    "        mlflow.set_registry_uri(self.config.mlflow_uri)\n",
    "        tracking_uri_type_store = urlparse(mlflow.get_tracking_uri()).scheme\n",
    "\n",
    "        with mlflow.start_run():\n",
    "            y_pred = model.predict(X_test)\n",
    "            mse, mae, r2 = self.eval_metrics(y_test, y_pred)\n",
    "            scores = {\"mae\": mae, \"mse\": mse, \"r2\": r2}\n",
    "            save_json(path=Path(self.config.metrics_file_name), data=scores)\n",
    "\n",
    "            mlflow.log_params(self.config.params)\n",
    "            mlflow.log_metric(\"mse\", mse)\n",
    "            mlflow.log_metric(\"mae\", mae)\n",
    "            mlflow.log_metric(\"r2\", r2)\n",
    "\n",
    "            if tracking_uri_type_store != \"file\":\n",
    "                mlflow.sklearn.log_model(model, \"model\", registered_model_name=\"ElasticNetModel\")\n",
    "            else:\n",
    "                mlflow.sklearn.log_model(model, \"model\")"
   ]
  },
  {
   "cell_type": "code",
   "execution_count": 19,
   "id": "d4b0ef0a",
   "metadata": {},
   "outputs": [
    {
     "name": "stdout",
     "output_type": "stream",
     "text": [
      "[2025-06-22 21:35:00,937: INFO: common: yaml file: src\\project\\config\\config.yaml loaded successfully]\n",
      "[2025-06-22 21:35:00,939: INFO: common: yaml file: params.yaml loaded successfully]\n",
      "[2025-06-22 21:35:00,942: INFO: common: yaml file: schema.yaml loaded successfully]\n",
      "[2025-06-22 21:35:00,944: INFO: common: Created Directory at: artifacts]\n",
      "[2025-06-22 21:35:00,946: INFO: common: Created Directory at: artifacts/model_evaluation]\n",
      "[2025-06-22 21:35:02,969: INFO: common: JSON file saved at: artifacts\\model_evaluation\\metrics.json]\n"
     ]
    },
    {
     "name": "stderr",
     "output_type": "stream",
     "text": [
      "2025/06/22 21:35:28 WARNING mlflow.models.model: Model logged without a signature and input example. Please set `input_example` parameter when logging the model to auto infer the model signature.\n",
      "Successfully registered model 'ElasticNetModel'.\n",
      "2025/06/22 21:35:34 INFO mlflow.store.model_registry.abstract_store: Waiting up to 300 seconds for model version to finish creation. Model name: ElasticNetModel, version 1\n",
      "Created version '1' of model 'ElasticNetModel'.\n"
     ]
    },
    {
     "name": "stdout",
     "output_type": "stream",
     "text": [
      "🏃 View run silent-duck-675 at: https://dagshub.com/anshlulla26/data-science-project.mlflow/#/experiments/0/runs/21c77085381b4a3c99268ef470988cd6\n",
      "🧪 View experiment at: https://dagshub.com/anshlulla26/data-science-project.mlflow/#/experiments/0\n"
     ]
    }
   ],
   "source": [
    "try:\n",
    "    config = ConfigurationManager()\n",
    "    model_evaluation_config = config.get_model_evaluation_config()\n",
    "    model_evaluation = ModelEvaluation(config=model_evaluation_config)\n",
    "    model_evaluation.log_into_mlflow()\n",
    "except Exception as e:\n",
    "    raise e"
   ]
  },
  {
   "cell_type": "code",
   "execution_count": null,
   "id": "70b2f5d1",
   "metadata": {},
   "outputs": [],
   "source": []
  }
 ],
 "metadata": {
  "kernelspec": {
   "display_name": "Python 3",
   "language": "python",
   "name": "python3"
  },
  "language_info": {
   "codemirror_mode": {
    "name": "ipython",
    "version": 3
   },
   "file_extension": ".py",
   "mimetype": "text/x-python",
   "name": "python",
   "nbconvert_exporter": "python",
   "pygments_lexer": "ipython3",
   "version": "3.12.0"
  }
 },
 "nbformat": 4,
 "nbformat_minor": 5
}
